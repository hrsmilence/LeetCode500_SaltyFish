{
 "cells": [
  {
   "cell_type": "markdown",
   "metadata": {},
   "source": [
    "LeetCode_1_to_100"
   ]
  },
  {
   "cell_type": "code",
   "execution_count": null,
   "metadata": {
    "collapsed": true
   },
   "outputs": [],
   "source": []
  },
  {
   "cell_type": "markdown",
   "metadata": {},
   "source": [
    "001 Problem:\n",
    "Given an array of integers, return indices of the two numbers such that they add up to a specific target.\n",
    "You may assume that each input would have exactly one solution, and you may not use the same element twice.\n",
    "Example, given nums = [2, 7, 11, 15], target = 9\n",
    "return [0, 1]."
   ]
  },
  {
   "cell_type": "code",
   "execution_count": 62,
   "metadata": {
    "collapsed": true
   },
   "outputs": [],
   "source": [
    "def solution(x, a):\n",
    "    \"\"\"\n",
    "    x is the list of numbers to look up into. a is the target number\n",
    "    \"\"\"\n",
    "    x_sort = sorted(x)\n",
    "    for i in range(len(x)- 1):\n",
    "        num = a - x_sort[i]\n",
    "        y = [n for n in x if n != x_sort[i]]\n",
    "        if num in y:\n",
    "            cur_index = x.index(x_sort[i])\n",
    "            sol = sorted([cur_index, x.index(num)])\n",
    "            return(sol)"
   ]
  },
  {
   "cell_type": "code",
   "execution_count": 63,
   "metadata": {},
   "outputs": [
    {
     "data": {
      "text/plain": [
       "[0, 1]"
      ]
     },
     "execution_count": 63,
     "metadata": {},
     "output_type": "execute_result"
    }
   ],
   "source": [
    "solution([8,9,3,5,1,6,0], 17)  "
   ]
  },
  {
   "cell_type": "markdown",
   "metadata": {},
   "source": [
    "002 Problem: You are given two non-empty linked lists representing two non-negative integers. The digits are stored in reverse order and each of their nodes contain a single digit. Add the two numbers ans return it as a linked list.\n",
    "You may assume  the two numbers do not contain any leading zero, except the number 0 itself"
   ]
  },
  {
   "cell_type": "code",
   "execution_count": 73,
   "metadata": {},
   "outputs": [
    {
     "data": {
      "text/plain": [
       "['3', '1', '4']"
      ]
     },
     "execution_count": 73,
     "metadata": {},
     "output_type": "execute_result"
    }
   ],
   "source": [
    "def reverse_add_up(a, b):\n",
    "    a = ''.join(a)\n",
    "    b = ''.join(b)\n",
    "    a = a[::-1]\n",
    "    b = b[::-1]\n",
    "    sol = int(a) + int(b)\n",
    "    sol = str(sol)\n",
    "    sol = sol[::-1]\n",
    "    sol = list(sol)\n",
    "    return sol\n",
    "    \n",
    "reverse_add_up(['1', '2', '3'], ['2', '9'])"
   ]
  },
  {
   "cell_type": "markdown",
   "metadata": {},
   "source": [
    "003 Problem: Given a string, find the length of longeset string without repeating characters\n",
    "Example, given 'abcabcbb', answer is 'abc'; given 'bbb', answer is 'b'; given 'pwwkew', answer is 'wke'"
   ]
  },
  {
   "cell_type": "code",
   "execution_count": 96,
   "metadata": {},
   "outputs": [
    {
     "data": {
      "text/plain": [
       "7"
      ]
     },
     "execution_count": 96,
     "metadata": {},
     "output_type": "execute_result"
    }
   ],
   "source": [
    "def longest_without_repeating_str(x):\n",
    "    if not x:\n",
    "        return 0 \n",
    "\n",
    "    MaxLen = 0\n",
    "    TempStr = ''\n",
    "    for i in x:\n",
    "        if i not in TempStr:\n",
    "            TempStr = TempStr + i\n",
    "            if len(TempStr) > MaxLen:\n",
    "                MaxLen = len(TempStr)\n",
    "        else:\n",
    "            TempStr = TempStr[TempStr.index(i)+1:] + i\n",
    "    return MaxLen\n",
    "        \n",
    "longest_without_repeating_str('abcghtabdbcvbsasns') "
   ]
  },
  {
   "cell_type": "markdown",
   "metadata": {},
   "source": [
    "004 Problem: Median of Two Sorted Arrays\n",
    "There are two sorted arrays nums1 and nums2 of size m and n respectively. Find the median of the two sorted arrays. The overall runtime complexity should be O(log(m+n)).\n",
    "Example, nums1 = [1, 3], nums3 = [2], the median is 2.0"
   ]
  },
  {
   "cell_type": "code",
   "execution_count": 124,
   "metadata": {},
   "outputs": [
    {
     "data": {
      "text/plain": [
       "56"
      ]
     },
     "execution_count": 124,
     "metadata": {},
     "output_type": "execute_result"
    }
   ],
   "source": [
    "# runtime complexity O((m+n)*log(m+n))\n",
    "def MedianOfTwoSortedArrays(nums1, nums2):\n",
    "    nums = nums1 + nums2\n",
    "    nums = sorted(nums)\n",
    "    length = len(nums)\n",
    "    \n",
    "    if length % 2 == 0:\n",
    "        idx = int(length/2)\n",
    "        idx1 = int((length/2) + 1)\n",
    "        med = (nums[idx] + nums[idx1])/2\n",
    "        return med\n",
    "    else:\n",
    "        idx = round(length/2)\n",
    "        med = nums[idx]\n",
    "        return med\n",
    "\n",
    "MedianOfTwoSortedArrays([1,5,8,34,45,56,89], [2, 43, 45, 67, 68, 91, 100, 132])"
   ]
  },
  {
   "cell_type": "code",
   "execution_count": 123,
   "metadata": {},
   "outputs": [
    {
     "data": {
      "text/plain": [
       "56"
      ]
     },
     "execution_count": 123,
     "metadata": {},
     "output_type": "execute_result"
    }
   ],
   "source": [
    "# runtime complexity O(log(m+n))\n",
    "class Solution:\n",
    "    # @param {integer[]} nums1\n",
    "    # @param {integer[]} nums2\n",
    "    # @return {float}\n",
    "    def findMedianSortedArrays(self, nums1, nums2):\n",
    "        m = len(nums1) + len(nums2)\n",
    "        if m % 2 == 1:\n",
    "            return self.kth(nums1, nums2, m // 2) #// floor division, 9 // 2 = 4\n",
    "        else:\n",
    "            return float(self.kth(nums1, nums2, m // 2) + self.kth(nums1, nums2, m // 2 - 1)) / 2\n",
    "\n",
    "    "
   ]
  },
  {
   "cell_type": "code",
   "execution_count": 14,
   "metadata": {},
   "outputs": [
    {
     "data": {
      "text/plain": [
       "10.5"
      ]
     },
     "execution_count": 14,
     "metadata": {},
     "output_type": "execute_result"
    }
   ],
   "source": [
    "def findMedSortedTwoArrays(A, B):\n",
    "    m = len(A) + len(B)\n",
    "    if m % 2 == 1:\n",
    "        return getKth(A, B, m // 2)\n",
    "    else:\n",
    "        return float(getKth(A, B , m // 2) + getKth(A, B, m // 2 - 1))/2\n",
    "    \n",
    "def getKth(A, B, k):\n",
    "    if not A:\n",
    "        return B[k]\n",
    "    if not B:\n",
    "        return A[k]\n",
    "    \n",
    "    midA, midB = len(A) // 2, len(B) // 2\n",
    "    if midA+midB < k:\n",
    "        if A[midA] > B[midB]:\n",
    "            return getKth(A, B[midB+1:], k - midB - 1)\n",
    "        else:\n",
    "            return getKth(A[midA+1:], B, k - midA - 1)\n",
    "    else:\n",
    "        if A[midA] > B[midB]:\n",
    "            return getKth(A[:midA], B, k)\n",
    "        else:\n",
    "            return getKth(A, B[:midB], k)\n",
    "        \n",
    "findMedSortedTwoArrays([1,  2, 5, 7, 8, 23, 45, 67], [6, 8, 9, 12, 34, 78, 79, 80])       "
   ]
  },
  {
   "cell_type": "markdown",
   "metadata": {
    "collapsed": true
   },
   "source": [
    "005 Problem: Longest Palindromic Substring\n",
    "Given string s, find the longest palindromic substring in s. You may assume that the maximum length of s is 1000.\n",
    "Example, given 'babad', output is 'bab', 'aba' is also one possible output; given 'cbbd', output is 'bb'"
   ]
  },
  {
   "cell_type": "code",
   "execution_count": null,
   "metadata": {
    "collapsed": true
   },
   "outputs": [],
   "source": [
    "###这个对于我而言太难了，先找到答案放这儿， 回头来看！！！\n",
    "class Solution(object):\n",
    "    def longestPalindrome2(self, s):\n",
    "        \"\"\"\n",
    "        :type s: str\n",
    "        :rtype: str\n",
    "        \"\"\"\n",
    "        if not s:\n",
    "            return\n",
    "        n = len(s)\n",
    "        if n == 1:\n",
    "            return s\n",
    "        # Left index of the target substring\n",
    "        l = 0\n",
    "        # Right index of the target substring\n",
    "        r = 0\n",
    "        # Length of the longest palindromic substring for now\n",
    "        m = 0\n",
    "        # Length of the current substring\n",
    "        c = 0\n",
    "        # Whether the substring contains the first character or last character\n",
    "        # and is palindromic\n",
    "        b = True\n",
    "        for i in range(0, n):\n",
    "            # Odd situation\n",
    "            for j in range(0, min(n - i, i + 1)):\n",
    "                if (s[i - j] != s[i + j]):\n",
    "                    b = False\n",
    "                    break\n",
    "                else:\n",
    "                    c = 2 * j + 1\n",
    "            if (c > m):\n",
    "                l = i - j + 1 - b\n",
    "                r = i + j + b\n",
    "                m = c\n",
    "            b = True\n",
    "            # Even situation\n",
    "            for j in range(0, min(n - i - 1, i + 1)):\n",
    "                if (s[i - j] != s[i + j + 1]):\n",
    "                    b = False\n",
    "                    break\n",
    "                else:\n",
    "                    c = 2 * j + 2\n",
    "            if (c > m):\n",
    "                l = i - j + 1 - b\n",
    "                r = i + j + 1 + b\n",
    "                m = c\n",
    "            b = True\n",
    "        return s[l:r]\n",
    "\n",
    "    def longestPalindrome(self, s):\n",
    "        string = \"#\" + \"#\".join(s) + \"#\"\n",
    "        i = 0\n",
    "        maxBorder = 0  # store the max border that has been reached\n",
    "        maxCenter = 0  # the center of palindrome that has been largest for now\n",
    "        p = [0 for _ in range(len(string))]  # min in (center to i or i to border)\n",
    "        res = [0, 0]\n",
    "\n",
    "        while i < len(string):\n",
    "            p[i] = min(p[2 * maxCenter - i], maxBorder - i) if maxBorder > i else 1\n",
    "            while i - p[i] >= 0 and i + p[i] < len(string) and string[i - p[i]] == string[i + p[i]]:\n",
    "                p[i] += 1\n",
    "            if maxBorder < p[i] + i:\n",
    "                maxBorder = p[i] + i\n",
    "                maxCenter = i\n",
    "                if maxBorder - maxCenter > res[1] - res[0]:\n",
    "                    res = [maxCenter, maxBorder]\n",
    "            i += 1\n",
    "\n",
    "        return \"\".join([x for x in string[2 * res[0] - res[1] + 1:res[1]] if x != '#'])"
   ]
  },
  {
   "cell_type": "markdown",
   "metadata": {
    "collapsed": true
   },
   "source": [
    "006 Problem: ZigZag Conversion\n",
    "The string 'PAYPALISHIRING' is written in a zigzag pattern on a given number of rows like this: (you may want to display this pattern in a fixed font for better legibility).\n"
   ]
  },
  {
   "cell_type": "code",
   "execution_count": 18,
   "metadata": {
    "collapsed": true
   },
   "outputs": [],
   "source": [
    "#P   A   H   N\n",
    "#A P L S I I G\n",
    "#Y   I   R\n",
    "#output的同行相邻的字母在原来string上的距离一样"
   ]
  },
  {
   "cell_type": "code",
   "execution_count": null,
   "metadata": {
    "collapsed": true
   },
   "outputs": [],
   "source": [
    "def convert(s, numRows):\n",
    "    if numRows<=1:\n",
    "        return s\n",
    "    result = ''\n",
    "    index = 0\n",
    "    n = len(s)\n",
    "    for i in range(0, numRows):\n",
    "        if i == 0 or i == numRows - 1:\n",
    "            while index < n:\n",
    "                result += s[index]\n",
    "                index += 2 * numRows - 2\n",
    "            index = i + 1\n",
    "        else:\n",
    "            while index < n:\n",
    "                result += s[index]\n",
    "                index += 2 * numRows - 2 * i - 2\n",
    "                if index >= n:\n",
    "                    break\n",
    "                result += s[index]\n",
    "                index += 2 * i\n",
    "            index = i + 1\n",
    "    return result\n",
    "convert('howareyoushengmuhua', 4)"
   ]
  },
  {
   "cell_type": "markdown",
   "metadata": {
    "collapsed": true
   },
   "source": [
    "007: Reverse Problem.\n",
    "    reverse digits of integers. Example, x = 123, return 321; x = -321, return -123"
   ]
  },
  {
   "cell_type": "code",
   "execution_count": null,
   "metadata": {
    "collapsed": true
   },
   "outputs": [],
   "source": [
    "def reverse_int(x):\n",
    "    \n",
    "    if x > 0:\n",
    "        sign = 1\n",
    "    else:\n",
    "        sign = -1\n",
    "    \n",
    "    output = 0\n",
    "    x *= sign\n",
    "    \n",
    "    while x >= 0:\n",
    "        \n",
    "        output = 10*output + x % 10    \n",
    "        x /= 10\n",
    "        \n",
    "    if output > 2147483647:\n",
    "        return 0\n",
    "    else:\n",
    "        return output * sign\n",
    "    \n",
    "reverse_int(5642)"
   ]
  },
  {
   "cell_type": "markdown",
   "metadata": {
    "collapsed": true
   },
   "source": [
    "771: You're given strings J representing the types of stones that are jewels, and S representing the stones you have.  Each character in S is a type of stone you have.  You want to know how many of the stones you have are also jewels.\n",
    "\n",
    "The letters in J are guaranteed distinct, and all characters in J and S are letters. Letters are case sensitive, so \"a\" is considered a different type of stone from \"A\".\n",
    "\n",
    "Note:\n",
    "S and J will consist of letters and have length at most 50.\n",
    "The characters in J are distinct."
   ]
  },
  {
   "cell_type": "code",
   "execution_count": 8,
   "metadata": {},
   "outputs": [
    {
     "data": {
      "text/plain": [
       "10"
      ]
     },
     "execution_count": 8,
     "metadata": {},
     "output_type": "execute_result"
    }
   ],
   "source": [
    "def JewelsAndStones(j, s):\n",
    "    if len(s) > 50 and len(j) > 50:\n",
    "        return 'lengths of the stone and jewel are too long'\n",
    "    else:\n",
    "        jewel = 0\n",
    "        for i in j:\n",
    "            jewel = jewel + s.count(i)\n",
    "        return jewel\n",
    "\n",
    "            \n",
    "JewelsAndStones('ah', 'ajsfhahahahahskf') \n",
    "    "
   ]
  },
  {
   "cell_type": "markdown",
   "metadata": {
    "collapsed": true
   },
   "source": [
    "461: The Hamming distance between two integers is the number of positions at which the corresponding bits are different.\n",
    "\n",
    "Given two integers x and y, calculate the Hamming distance.\n",
    "\n",
    "Note:\n",
    "0 ≤ x, y < 2^31."
   ]
  },
  {
   "cell_type": "code",
   "execution_count": 10,
   "metadata": {
    "collapsed": true
   },
   "outputs": [],
   "source": [
    "class Solution(object):\n",
    "    def hammingDistance(self, x, y):\n",
    "        \"\"\"\n",
    "        :type x: int\n",
    "        :type y: int\n",
    "        :rtype: int\n",
    "        \"\"\"\n",
    "        \n",
    "        distance = 0\n",
    "        z = x^y\n",
    "        while z: # while z is not equal to 0\n",
    "            distance += 1\n",
    "            z &= z - 1\n",
    "        return distance\n",
    "    def hammingDistance2(self, x, y):\n",
    "        \"\"\"\n",
    "        :type x: int\n",
    "        :type y: int\n",
    "        :rtype: int\n",
    "        \"\"\"\n",
    "        return bin(x^y).count('1')\n",
    "        "
   ]
  },
  {
   "cell_type": "code",
   "execution_count": 26,
   "metadata": {},
   "outputs": [
    {
     "data": {
      "text/plain": [
       "4"
      ]
     },
     "execution_count": 26,
     "metadata": {},
     "output_type": "execute_result"
    }
   ],
   "source": [
    "def hammingDistance2(x, y): #关键是理解什么是异或值，以及在python中如何得到异或值\n",
    "    return bin(x^y).count('1')\n",
    "\n",
    "hammingDistance2(5,18)"
   ]
  },
  {
   "cell_type": "code",
   "execution_count": null,
   "metadata": {
    "collapsed": true
   },
   "outputs": [],
   "source": []
  },
  {
   "cell_type": "code",
   "execution_count": null,
   "metadata": {
    "collapsed": true
   },
   "outputs": [],
   "source": []
  }
 ],
 "metadata": {
  "kernelspec": {
   "display_name": "Python 3",
   "language": "python",
   "name": "python3"
  },
  "language_info": {
   "codemirror_mode": {
    "name": "ipython",
    "version": 3
   },
   "file_extension": ".py",
   "mimetype": "text/x-python",
   "name": "python",
   "nbconvert_exporter": "python",
   "pygments_lexer": "ipython3",
   "version": "3.6.3"
  }
 },
 "nbformat": 4,
 "nbformat_minor": 2
}
